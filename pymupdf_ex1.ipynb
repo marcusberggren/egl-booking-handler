{
 "cells": [
  {
   "cell_type": "code",
   "execution_count": null,
   "metadata": {},
   "outputs": [],
   "source": [
    "import fitz\n",
    "import pandas as pd\n",
    "from itertools import groupby\n",
    "from operator import itemgetter"
   ]
  },
  {
   "cell_type": "code",
   "execution_count": null,
   "metadata": {},
   "outputs": [],
   "source": [
    "def recover(words, rect):\n",
    "    \n",
    "    # build sublist of words container in given rectangle\n",
    "    mywords = [w for w in words if fitz.Rect(w[:4]) in rect]\n",
    "\n",
    "    # sort the words by lower line, then by word start coordinate\n",
    "    mywords.sort(key=itemgetter(3, 0)) # sort by y1, x0 of word rectangle\n",
    "\n",
    "    # create word groups on same line\n",
    "    grouped_lines = groupby(mywords, key=itemgetter(3))\n",
    "\n",
    "    words_out = [] # will be returned\n",
    "\n",
    "    # iterate through the grouped lines\n",
    "    # for each line coorinate (\"_\"), the list of words is given\n",
    "    for _, words_in_line in grouped_lines:\n",
    "        for i, w in enumerate(words_in_line):\n",
    "            if i == 0: # store first word\n",
    "                x0, y0, y1, word = w[:5]\n",
    "                continue\n",
    "\n",
    "            r = fitz.Rect(w[:4]) # word rect\n",
    "\n",
    "            # compute word distance threshold as 20% of width of 1 letter.\n",
    "            # should be safe joining text pieces into one word if shorter distance than that\n",
    "            treshold = r.width / len(w[4]) / 5\n",
    "            if r.x0 <= x1 + treshold: # join with previous words\n",
    "                word += w[4]\n",
    "                x1 = r.x1\n",
    "                y0 = max(y0, r.y0)\n",
    "                continue\n",
    "\n",
    "            # now have a new words, output previous one\n",
    "            words_out.append([x0, y0, x1, y1, word])\n",
    "\n",
    "            # store the new word\n",
    "            x0, y0, x1, y1, word = w[:5]\n",
    "        \n",
    "        # output word waiting for completion\n",
    "        words_out.append([x0, y0, x1, y1, word])\n",
    "    return words_out\n",
    "\n",
    "def search_for(text, words):\n",
    "    rect_list = []\n",
    "\n",
    "    # search for text in items of list of words\n",
    "\n",
    "    for w in words:\n",
    "        if text in w[4]:\n",
    "            rect_list.append(fitz.Rect(w[:4]))\n",
    "    return rect_list\n",
    "\n"
   ]
  },
  {
   "cell_type": "code",
   "execution_count": null,
   "metadata": {},
   "outputs": [],
   "source": [
    "def say_hello(name):\n",
    "    if not name:\n",
    "        return f\"Hello there!\"\n",
    "    return f\"Hello, {name}!\""
   ]
  },
  {
   "cell_type": "code",
   "execution_count": null,
   "metadata": {},
   "outputs": [],
   "source": [
    "import unittest\n",
    "\n",
    "class Test(unittest.TestCase):\n",
    "    def test_should_say_hello(self):\n",
    "        self.assertEqual(say_hello(\"Qualified\"),\n",
    "        \"Hello, Qualified\")"
   ]
  },
  {
   "cell_type": "code",
   "execution_count": null,
   "metadata": {},
   "outputs": [],
   "source": []
  }
 ],
 "metadata": {
  "kernelspec": {
   "display_name": "Python 3.11.0 ('venv': venv)",
   "language": "python",
   "name": "python3"
  },
  "language_info": {
   "codemirror_mode": {
    "name": "ipython",
    "version": 3
   },
   "file_extension": ".py",
   "mimetype": "text/x-python",
   "name": "python",
   "nbconvert_exporter": "python",
   "pygments_lexer": "ipython3",
   "version": "3.11.0"
  },
  "orig_nbformat": 4,
  "vscode": {
   "interpreter": {
    "hash": "2c27452c9ddef1c7b8a9b94fc34756e09f9f5763dd8b72821892adaa94b3b8be"
   }
  }
 },
 "nbformat": 4,
 "nbformat_minor": 2
}
